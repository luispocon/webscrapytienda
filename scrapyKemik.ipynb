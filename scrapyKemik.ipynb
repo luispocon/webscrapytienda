{
 "cells": [
  {
   "cell_type": "code",
   "execution_count": 1,
   "id": "a7e04f25-d7d8-4f4a-8f01-24317404ee62",
   "metadata": {},
   "outputs": [],
   "source": [
    "import pandas as pd\n",
    "import requests\n",
    "from bs4 import BeautifulSoup\n",
    "import re"
   ]
  },
  {
   "cell_type": "code",
   "execution_count": null,
   "id": "52514fb8-3272-429a-a3bb-b6daef8639ff",
   "metadata": {},
   "outputs": [],
   "source": []
  },
  {
   "cell_type": "code",
   "execution_count": 2,
   "id": "04fe5610-22a1-4cd6-abc3-c72dbb383839",
   "metadata": {},
   "outputs": [
    {
     "data": {
      "text/plain": [
       "' # URL de la página que deseas hacer scraping (reemplaza con la URL correcta)\\nurl = \\'https://www.kemik.gt/tienda-en-linea/electronicos?page=2\\'\\n\\n# Realizar la solicitud GET a la página web\\nresponse = requests.get(url)\\n\\n# Comprobar si la solicitud fue exitosa\\nif response.status_code == 200:\\n    # Parsear el contenido HTML\\n    soup = BeautifulSoup(response.content, \\'html.parser\\')\\n\\n    # Encontrar productos y precios con clases múltiples\\n    products = soup.find_all(\\'div\\', class_=\\'product-summary_title__RSvpT\\')\\n    prices = soup.find_all(\\'div\\', class_=[\\'price_price__xQt90\\', \\'product-summary_price__wQCFs product-summary_sale___6b6c\\'])\\n\\n    # Imprimir los productos y precios\\n    for product, price in zip(products, prices):\\n        print(f\"Producto: {product.get_text(strip=True)} - Precio: {price.get_text(strip=True)}\")\\nelse:\\n    print(f\"Error al acceder a la página: {response.status_code}\") '"
      ]
     },
     "execution_count": 2,
     "metadata": {},
     "output_type": "execute_result"
    }
   ],
   "source": [
    "\"\"\" # URL de la página que deseas hacer scraping (reemplaza con la URL correcta)\n",
    "url = 'https://www.kemik.gt/tienda-en-linea/electronicos?page=2'\n",
    "\n",
    "# Realizar la solicitud GET a la página web\n",
    "response = requests.get(url)\n",
    "\n",
    "# Comprobar si la solicitud fue exitosa\n",
    "if response.status_code == 200:\n",
    "    # Parsear el contenido HTML\n",
    "    soup = BeautifulSoup(response.content, 'html.parser')\n",
    "\n",
    "    # Encontrar productos y precios con clases múltiples\n",
    "    products = soup.find_all('div', class_='product-summary_title__RSvpT')\n",
    "    prices = soup.find_all('div', class_=['price_price__xQt90', 'product-summary_price__wQCFs product-summary_sale___6b6c'])\n",
    "\n",
    "    # Imprimir los productos y precios\n",
    "    for product, price in zip(products, prices):\n",
    "        print(f\"Producto: {product.get_text(strip=True)} - Precio: {price.get_text(strip=True)}\")\n",
    "else:\n",
    "    print(f\"Error al acceder a la página: {response.status_code}\") \"\"\""
   ]
  },
  {
   "cell_type": "code",
   "execution_count": 3,
   "id": "50a16b73-fc82-4b39-a255-08a84f4d26f9",
   "metadata": {},
   "outputs": [],
   "source": [
    "nombre_producto = []\n",
    "precio = []\n",
    "link = []\n",
    "\n",
    "for i in range(1,26):\n",
    "    # Crear un header para la solicitud que simule un navegador\n",
    "    headers = {\n",
    "        'User-Agent': 'Mozilla/5.0 (Windows NT 10.0; Win64; x64) AppleWebKit/537.36 (KHTML, like Gecko) Chrome/92.0.4515.131 Safari/537.36',\n",
    "        'Accept-Language': 'en-US,en;q=0.9',\n",
    "        'Accept-Encoding': 'gzip, deflate, br',\n",
    "        'Connection': 'keep-alive',\n",
    "        'DNT': '1',  # Do Not Track request header\n",
    "    }\n",
    "    \n",
    "    # URL de la página que deseas hacer scraping (reemplaza con la URL correcta)\n",
    "    url = 'https://www.kemik.gt/tienda-en-linea/electronicos?page={i}'.format(i = i)\n",
    "    # Realizar la solicitud GET a la página web\n",
    "    response = requests.get(url, headers=headers)\n",
    "    \n",
    "    soup = BeautifulSoup(response.content, 'html.parser')\n",
    "    \n",
    "    # Obteniendo el nombre del producto\n",
    "    producto = soup.find_all('div', class_='product-summary_title__RSvpT')\n",
    "    for products in producto:\n",
    "        prod = products.get_text(strip=True)\n",
    "        nombre_producto.append(prod)\n",
    "        \n",
    "    # Obteniendo los precios de oferta y normales\n",
    "    prices = soup.find_all('div', class_=['product-summary_prices__qbBVd',])\n",
    "    for price in prices:\n",
    "        pre = price.get_text(strip=True)\n",
    "        precio.append(pre)\n",
    "\n",
    "    # Extraer y mostrar los href de cada enlace\n",
    "    enlaces = soup.find_all('a', class_='product-summary_product-summary__dYYlE product-search-pages_product__YoKp1 product-summary_shown__6Iu_Q')\n",
    "    for enlace in enlaces:\n",
    "        href = enlace.get('href')\n",
    "        link_pagina = 'https://www.kemik.gt'+ href\n",
    "        link.append(link_pagina)\n",
    "        "
   ]
  },
  {
   "cell_type": "code",
   "execution_count": 4,
   "id": "86ebb977-855a-4f6f-818d-205ae1474cb7",
   "metadata": {},
   "outputs": [],
   "source": [
    "df_kemik = pd.DataFrame()\n",
    "df_kemik[\"nombre_producto\"] = pd.Series(nombre_producto)\n",
    "df_kemik[\"precios\"] = pd.Series(precio)\n",
    "df_kemik[\"url_articulo\"] = pd.Series(link)"
   ]
  },
  {
   "cell_type": "code",
   "execution_count": 5,
   "id": "2290d4d3-6bff-4e2c-b1ce-f075d6b7a411",
   "metadata": {},
   "outputs": [],
   "source": [
    "# Función para dividir después de la segunda aparición de \"Q\"\n",
    "def separar_precios(precio_str):\n",
    "    # Separar las cadenas de precios por el espacio antes de cada \"Q\"\n",
    "    partes = precio_str.split(\"Q\")\n",
    "    \n",
    "    # Si hay más de una aparición de \"Q\", crear dos columnas\n",
    "    if len(partes) > 2:\n",
    "        columna1 = \"Q \" + partes[1].strip()\n",
    "        columna2 = \"Q \" + partes[2].strip()\n",
    "        return (columna1, columna2)\n",
    "    else:\n",
    "        return (precio_str.strip(), \"\")"
   ]
  },
  {
   "cell_type": "code",
   "execution_count": 6,
   "id": "6583f203-9b50-4ed6-88ec-312dc3f665d7",
   "metadata": {},
   "outputs": [],
   "source": [
    "# Aplicar la función a la columna 'precios' y expandir el resultado en dos nuevas columnas\n",
    "df_kemik[['precio_oferta', 'precio_normal']] = df_kemik['precios'].apply(separar_precios).apply(pd.Series)"
   ]
  },
  {
   "cell_type": "code",
   "execution_count": 7,
   "id": "9a573b0c-c139-4393-a393-f0d4ba78e046",
   "metadata": {},
   "outputs": [],
   "source": [
    "# Función para eliminar la letra \"Q\" y convertir a número\n",
    "def convertir_a_numero(precio_str):\n",
    "    # Usar expresiones regulares para eliminar la \"Q\" y las comas\n",
    "    return float(re.sub(r'[Q,]', '', precio_str))\n",
    "\n",
    "# Aplicar la función a las columnas precio_1 y precio_2, y convertir a números\n",
    "df_kemik['precio_oferta'] = df_kemik['precio_oferta'].replace('', '0').apply(convertir_a_numero)\n",
    "df_kemik['precio_normal'] = df_kemik['precio_normal'].replace('', '0').apply(convertir_a_numero)\n",
    "\n",
    "df_kemik[\"porcentaje_oferta\"] = df_kemik.apply(lambda x: 100 - ((x['precio_oferta'] * 100) / (x['precio_normal'])) if x['precio_normal'] > 0 \n",
    "                                               else 0, axis = 1)"
   ]
  },
  {
   "cell_type": "code",
   "execution_count": 8,
   "id": "2a2e3681-7d3b-4c16-9a27-84d08f7bbf7e",
   "metadata": {},
   "outputs": [],
   "source": [
    "\n"
   ]
  },
  {
   "cell_type": "code",
   "execution_count": 9,
   "id": "116a37bb-4911-4845-bb91-322025c0d542",
   "metadata": {},
   "outputs": [],
   "source": [
    "df_kemik.to_excel(\"area_tecnologia_kemik.xlsx\", index = False)"
   ]
  },
  {
   "cell_type": "code",
   "execution_count": null,
   "id": "dfbece59-152e-4af6-aaf6-b96bc33354f5",
   "metadata": {},
   "outputs": [],
   "source": []
  },
  {
   "cell_type": "code",
   "execution_count": null,
   "id": "3f3ad404-84a5-42e8-9f2c-104dca384b13",
   "metadata": {},
   "outputs": [],
   "source": []
  }
 ],
 "metadata": {
  "kernelspec": {
   "display_name": "Python 3 (ipykernel)",
   "language": "python",
   "name": "python3"
  },
  "language_info": {
   "codemirror_mode": {
    "name": "ipython",
    "version": 3
   },
   "file_extension": ".py",
   "mimetype": "text/x-python",
   "name": "python",
   "nbconvert_exporter": "python",
   "pygments_lexer": "ipython3",
   "version": "3.11.7"
  }
 },
 "nbformat": 4,
 "nbformat_minor": 5
}
